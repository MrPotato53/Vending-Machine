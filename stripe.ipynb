{
  "nbformat": 4,
  "nbformat_minor": 0,
  "metadata": {
    "colab": {
      "provenance": []
    },
    "kernelspec": {
      "name": "python3",
      "display_name": "Python 3"
    },
    "language_info": {
      "name": "python"
    },
    "widgets": {
      "application/vnd.jupyter.widget-state+json": {
        "05703ae5a53f40419de665ef81def16a": {
          "model_module": "@jupyter-widgets/controls",
          "model_name": "ButtonModel",
          "model_module_version": "1.5.0",
          "state": {
            "_dom_classes": [],
            "_model_module": "@jupyter-widgets/controls",
            "_model_module_version": "1.5.0",
            "_model_name": "ButtonModel",
            "_view_count": null,
            "_view_module": "@jupyter-widgets/controls",
            "_view_module_version": "1.5.0",
            "_view_name": "ButtonView",
            "button_style": "primary",
            "description": "Pay",
            "disabled": false,
            "icon": "",
            "layout": "IPY_MODEL_0f8c1dba12e941ae962eb05d52c64a78",
            "style": "IPY_MODEL_f2e58f91269a4401af7cba1ca2f5a97d",
            "tooltip": "Click to process the payment"
          }
        },
        "0f8c1dba12e941ae962eb05d52c64a78": {
          "model_module": "@jupyter-widgets/base",
          "model_name": "LayoutModel",
          "model_module_version": "1.2.0",
          "state": {
            "_model_module": "@jupyter-widgets/base",
            "_model_module_version": "1.2.0",
            "_model_name": "LayoutModel",
            "_view_count": null,
            "_view_module": "@jupyter-widgets/base",
            "_view_module_version": "1.2.0",
            "_view_name": "LayoutView",
            "align_content": null,
            "align_items": null,
            "align_self": null,
            "border": null,
            "bottom": null,
            "display": null,
            "flex": null,
            "flex_flow": null,
            "grid_area": null,
            "grid_auto_columns": null,
            "grid_auto_flow": null,
            "grid_auto_rows": null,
            "grid_column": null,
            "grid_gap": null,
            "grid_row": null,
            "grid_template_areas": null,
            "grid_template_columns": null,
            "grid_template_rows": null,
            "height": null,
            "justify_content": null,
            "justify_items": null,
            "left": null,
            "margin": null,
            "max_height": null,
            "max_width": null,
            "min_height": null,
            "min_width": null,
            "object_fit": null,
            "object_position": null,
            "order": null,
            "overflow": null,
            "overflow_x": null,
            "overflow_y": null,
            "padding": null,
            "right": null,
            "top": null,
            "visibility": null,
            "width": null
          }
        },
        "f2e58f91269a4401af7cba1ca2f5a97d": {
          "model_module": "@jupyter-widgets/controls",
          "model_name": "ButtonStyleModel",
          "model_module_version": "1.5.0",
          "state": {
            "_model_module": "@jupyter-widgets/controls",
            "_model_module_version": "1.5.0",
            "_model_name": "ButtonStyleModel",
            "_view_count": null,
            "_view_module": "@jupyter-widgets/base",
            "_view_module_version": "1.2.0",
            "_view_name": "StyleView",
            "button_color": null,
            "font_weight": ""
          }
        },
        "c1f5f294dd0c47feaf55fb92ae2085c1": {
          "model_module": "@jupyter-widgets/output",
          "model_name": "OutputModel",
          "model_module_version": "1.0.0",
          "state": {
            "_dom_classes": [],
            "_model_module": "@jupyter-widgets/output",
            "_model_module_version": "1.0.0",
            "_model_name": "OutputModel",
            "_view_count": null,
            "_view_module": "@jupyter-widgets/output",
            "_view_module_version": "1.0.0",
            "_view_name": "OutputView",
            "layout": "IPY_MODEL_f6ac84a7a244477387a0fc038da255c5",
            "msg_id": "",
            "outputs": []
          }
        },
        "f6ac84a7a244477387a0fc038da255c5": {
          "model_module": "@jupyter-widgets/base",
          "model_name": "LayoutModel",
          "model_module_version": "1.2.0",
          "state": {
            "_model_module": "@jupyter-widgets/base",
            "_model_module_version": "1.2.0",
            "_model_name": "LayoutModel",
            "_view_count": null,
            "_view_module": "@jupyter-widgets/base",
            "_view_module_version": "1.2.0",
            "_view_name": "LayoutView",
            "align_content": null,
            "align_items": null,
            "align_self": null,
            "border": null,
            "bottom": null,
            "display": null,
            "flex": null,
            "flex_flow": null,
            "grid_area": null,
            "grid_auto_columns": null,
            "grid_auto_flow": null,
            "grid_auto_rows": null,
            "grid_column": null,
            "grid_gap": null,
            "grid_row": null,
            "grid_template_areas": null,
            "grid_template_columns": null,
            "grid_template_rows": null,
            "height": null,
            "justify_content": null,
            "justify_items": null,
            "left": null,
            "margin": null,
            "max_height": null,
            "max_width": null,
            "min_height": null,
            "min_width": null,
            "object_fit": null,
            "object_position": null,
            "order": null,
            "overflow": null,
            "overflow_x": null,
            "overflow_y": null,
            "padding": null,
            "right": null,
            "top": null,
            "visibility": null,
            "width": null
          }
        },
        "0668a543ecd243e080caf5ec223a0f69": {
          "model_module": "@jupyter-widgets/controls",
          "model_name": "ButtonModel",
          "model_module_version": "1.5.0",
          "state": {
            "_dom_classes": [],
            "_model_module": "@jupyter-widgets/controls",
            "_model_module_version": "1.5.0",
            "_model_name": "ButtonModel",
            "_view_count": null,
            "_view_module": "@jupyter-widgets/controls",
            "_view_module_version": "1.5.0",
            "_view_name": "ButtonView",
            "button_style": "primary",
            "description": "Pay",
            "disabled": false,
            "icon": "",
            "layout": "IPY_MODEL_e2df283a91ff48eaba068803da7f2be2",
            "style": "IPY_MODEL_19bed72eea1d41ddb4125049b1b39285",
            "tooltip": "Click to open the Stripe Checkout page"
          }
        },
        "e2df283a91ff48eaba068803da7f2be2": {
          "model_module": "@jupyter-widgets/base",
          "model_name": "LayoutModel",
          "model_module_version": "1.2.0",
          "state": {
            "_model_module": "@jupyter-widgets/base",
            "_model_module_version": "1.2.0",
            "_model_name": "LayoutModel",
            "_view_count": null,
            "_view_module": "@jupyter-widgets/base",
            "_view_module_version": "1.2.0",
            "_view_name": "LayoutView",
            "align_content": null,
            "align_items": null,
            "align_self": null,
            "border": null,
            "bottom": null,
            "display": null,
            "flex": null,
            "flex_flow": null,
            "grid_area": null,
            "grid_auto_columns": null,
            "grid_auto_flow": null,
            "grid_auto_rows": null,
            "grid_column": null,
            "grid_gap": null,
            "grid_row": null,
            "grid_template_areas": null,
            "grid_template_columns": null,
            "grid_template_rows": null,
            "height": null,
            "justify_content": null,
            "justify_items": null,
            "left": null,
            "margin": null,
            "max_height": null,
            "max_width": null,
            "min_height": null,
            "min_width": null,
            "object_fit": null,
            "object_position": null,
            "order": null,
            "overflow": null,
            "overflow_x": null,
            "overflow_y": null,
            "padding": null,
            "right": null,
            "top": null,
            "visibility": null,
            "width": null
          }
        },
        "19bed72eea1d41ddb4125049b1b39285": {
          "model_module": "@jupyter-widgets/controls",
          "model_name": "ButtonStyleModel",
          "model_module_version": "1.5.0",
          "state": {
            "_model_module": "@jupyter-widgets/controls",
            "_model_module_version": "1.5.0",
            "_model_name": "ButtonStyleModel",
            "_view_count": null,
            "_view_module": "@jupyter-widgets/base",
            "_view_module_version": "1.2.0",
            "_view_name": "StyleView",
            "button_color": null,
            "font_weight": ""
          }
        },
        "0abe853205c948f991bc5f28378533b7": {
          "model_module": "@jupyter-widgets/output",
          "model_name": "OutputModel",
          "model_module_version": "1.0.0",
          "state": {
            "_dom_classes": [],
            "_model_module": "@jupyter-widgets/output",
            "_model_module_version": "1.0.0",
            "_model_name": "OutputModel",
            "_view_count": null,
            "_view_module": "@jupyter-widgets/output",
            "_view_module_version": "1.0.0",
            "_view_name": "OutputView",
            "layout": "IPY_MODEL_6656c6aa0aa7463dae2f19b7536dbe52",
            "msg_id": "",
            "outputs": [
              {
                "output_type": "stream",
                "name": "stdout",
                "text": [
                  "Checkout session created successfully!\n",
                  "Please complete your payment on Stripe's secure Checkout page:\n"
                ]
              },
              {
                "output_type": "display_data",
                "data": {
                  "text/plain": "<IPython.core.display.HTML object>",
                  "text/html": "<a href=\"https://checkout.stripe.com/c/pay/cs_test_a1Uqueu354lMxtUUniFXRcNtQZocwpaQThvpigZV6EcsbnxmuAiQfbKYiU#fidkdWxOYHwnPyd1blpxYHZxWjA0VHFfYzw1MElqPD0zY1xGf1VET0g2dXUydjJUczMxQDxJM2Qxb0RyVTV%2FVmYyXX1iTXVIcTdhY25XSzZdY1J0UW88dlVAZ299cj08Vm1GfGc9fUh8NjJjNTUwQ300SWB8bCcpJ2N3amhWYHdzYHcnP3F3cGApJ2lkfGpwcVF8dWAnPyd2bGtiaWBabHFgaCcpJ2BrZGdpYFVpZGZgbWppYWB3dic%2FcXdwYHgl\" target=\"_blank\">Click here to pay</a>"
                },
                "metadata": {}
              }
            ]
          }
        },
        "6656c6aa0aa7463dae2f19b7536dbe52": {
          "model_module": "@jupyter-widgets/base",
          "model_name": "LayoutModel",
          "model_module_version": "1.2.0",
          "state": {
            "_model_module": "@jupyter-widgets/base",
            "_model_module_version": "1.2.0",
            "_model_name": "LayoutModel",
            "_view_count": null,
            "_view_module": "@jupyter-widgets/base",
            "_view_module_version": "1.2.0",
            "_view_name": "LayoutView",
            "align_content": null,
            "align_items": null,
            "align_self": null,
            "border": null,
            "bottom": null,
            "display": null,
            "flex": null,
            "flex_flow": null,
            "grid_area": null,
            "grid_auto_columns": null,
            "grid_auto_flow": null,
            "grid_auto_rows": null,
            "grid_column": null,
            "grid_gap": null,
            "grid_row": null,
            "grid_template_areas": null,
            "grid_template_columns": null,
            "grid_template_rows": null,
            "height": null,
            "justify_content": null,
            "justify_items": null,
            "left": null,
            "margin": null,
            "max_height": null,
            "max_width": null,
            "min_height": null,
            "min_width": null,
            "object_fit": null,
            "object_position": null,
            "order": null,
            "overflow": null,
            "overflow_x": null,
            "overflow_y": null,
            "padding": null,
            "right": null,
            "top": null,
            "visibility": null,
            "width": null
          }
        },
        "f860e0dbfec64a189fe2da03c302701e": {
          "model_module": "@jupyter-widgets/controls",
          "model_name": "ButtonModel",
          "model_module_version": "1.5.0",
          "state": {
            "_dom_classes": [],
            "_model_module": "@jupyter-widgets/controls",
            "_model_module_version": "1.5.0",
            "_model_name": "ButtonModel",
            "_view_count": null,
            "_view_module": "@jupyter-widgets/controls",
            "_view_module_version": "1.5.0",
            "_view_name": "ButtonView",
            "button_style": "primary",
            "description": "Pay",
            "disabled": false,
            "icon": "",
            "layout": "IPY_MODEL_30cd24ff941c40debd88cbdc16b9dc0b",
            "style": "IPY_MODEL_0cd9be8b40a84ebebadfe8a941f92691",
            "tooltip": "Click to open the Stripe Checkout page"
          }
        },
        "30cd24ff941c40debd88cbdc16b9dc0b": {
          "model_module": "@jupyter-widgets/base",
          "model_name": "LayoutModel",
          "model_module_version": "1.2.0",
          "state": {
            "_model_module": "@jupyter-widgets/base",
            "_model_module_version": "1.2.0",
            "_model_name": "LayoutModel",
            "_view_count": null,
            "_view_module": "@jupyter-widgets/base",
            "_view_module_version": "1.2.0",
            "_view_name": "LayoutView",
            "align_content": null,
            "align_items": null,
            "align_self": null,
            "border": null,
            "bottom": null,
            "display": null,
            "flex": null,
            "flex_flow": null,
            "grid_area": null,
            "grid_auto_columns": null,
            "grid_auto_flow": null,
            "grid_auto_rows": null,
            "grid_column": null,
            "grid_gap": null,
            "grid_row": null,
            "grid_template_areas": null,
            "grid_template_columns": null,
            "grid_template_rows": null,
            "height": null,
            "justify_content": null,
            "justify_items": null,
            "left": null,
            "margin": null,
            "max_height": null,
            "max_width": null,
            "min_height": null,
            "min_width": null,
            "object_fit": null,
            "object_position": null,
            "order": null,
            "overflow": null,
            "overflow_x": null,
            "overflow_y": null,
            "padding": null,
            "right": null,
            "top": null,
            "visibility": null,
            "width": null
          }
        },
        "0cd9be8b40a84ebebadfe8a941f92691": {
          "model_module": "@jupyter-widgets/controls",
          "model_name": "ButtonStyleModel",
          "model_module_version": "1.5.0",
          "state": {
            "_model_module": "@jupyter-widgets/controls",
            "_model_module_version": "1.5.0",
            "_model_name": "ButtonStyleModel",
            "_view_count": null,
            "_view_module": "@jupyter-widgets/base",
            "_view_module_version": "1.2.0",
            "_view_name": "StyleView",
            "button_color": null,
            "font_weight": ""
          }
        },
        "6ae142d3a97e4b72a8e2e9a6f8c8789c": {
          "model_module": "@jupyter-widgets/output",
          "model_name": "OutputModel",
          "model_module_version": "1.0.0",
          "state": {
            "_dom_classes": [],
            "_model_module": "@jupyter-widgets/output",
            "_model_module_version": "1.0.0",
            "_model_name": "OutputModel",
            "_view_count": null,
            "_view_module": "@jupyter-widgets/output",
            "_view_module_version": "1.0.0",
            "_view_name": "OutputView",
            "layout": "IPY_MODEL_bf2ff725e40a432ea07b37161bbb1cf6",
            "msg_id": "",
            "outputs": [
              {
                "output_type": "stream",
                "name": "stdout",
                "text": [
                  "Checkout session created successfully!\n",
                  "Please complete your payment on Stripe's secure Checkout page by scanning the QR code below:\n"
                ]
              },
              {
                "output_type": "display_data",
                "data": {
                  "image/png": "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\n",
                  "text/plain": "<IPython.core.display.Image object>"
                },
                "metadata": {}
              }
            ]
          }
        },
        "bf2ff725e40a432ea07b37161bbb1cf6": {
          "model_module": "@jupyter-widgets/base",
          "model_name": "LayoutModel",
          "model_module_version": "1.2.0",
          "state": {
            "_model_module": "@jupyter-widgets/base",
            "_model_module_version": "1.2.0",
            "_model_name": "LayoutModel",
            "_view_count": null,
            "_view_module": "@jupyter-widgets/base",
            "_view_module_version": "1.2.0",
            "_view_name": "LayoutView",
            "align_content": null,
            "align_items": null,
            "align_self": null,
            "border": null,
            "bottom": null,
            "display": null,
            "flex": null,
            "flex_flow": null,
            "grid_area": null,
            "grid_auto_columns": null,
            "grid_auto_flow": null,
            "grid_auto_rows": null,
            "grid_column": null,
            "grid_gap": null,
            "grid_row": null,
            "grid_template_areas": null,
            "grid_template_columns": null,
            "grid_template_rows": null,
            "height": null,
            "justify_content": null,
            "justify_items": null,
            "left": null,
            "margin": null,
            "max_height": null,
            "max_width": null,
            "min_height": null,
            "min_width": null,
            "object_fit": null,
            "object_position": null,
            "order": null,
            "overflow": null,
            "overflow_x": null,
            "overflow_y": null,
            "padding": null,
            "right": null,
            "top": null,
            "visibility": null,
            "width": null
          }
        },
        "3fb4f3d1d245487ca3653e3140198d79": {
          "model_module": "@jupyter-widgets/controls",
          "model_name": "ButtonModel",
          "model_module_version": "1.5.0",
          "state": {
            "_dom_classes": [],
            "_model_module": "@jupyter-widgets/controls",
            "_model_module_version": "1.5.0",
            "_model_name": "ButtonModel",
            "_view_count": null,
            "_view_module": "@jupyter-widgets/controls",
            "_view_module_version": "1.5.0",
            "_view_name": "ButtonView",
            "button_style": "primary",
            "description": "Pay",
            "disabled": false,
            "icon": "",
            "layout": "IPY_MODEL_50a386b7d28b41fd8914dd5db8df5bdf",
            "style": "IPY_MODEL_ea823990947f486eb3b37eb00ea5f5fa",
            "tooltip": "Click to open the Stripe Checkout page"
          }
        },
        "50a386b7d28b41fd8914dd5db8df5bdf": {
          "model_module": "@jupyter-widgets/base",
          "model_name": "LayoutModel",
          "model_module_version": "1.2.0",
          "state": {
            "_model_module": "@jupyter-widgets/base",
            "_model_module_version": "1.2.0",
            "_model_name": "LayoutModel",
            "_view_count": null,
            "_view_module": "@jupyter-widgets/base",
            "_view_module_version": "1.2.0",
            "_view_name": "LayoutView",
            "align_content": null,
            "align_items": null,
            "align_self": null,
            "border": null,
            "bottom": null,
            "display": null,
            "flex": null,
            "flex_flow": null,
            "grid_area": null,
            "grid_auto_columns": null,
            "grid_auto_flow": null,
            "grid_auto_rows": null,
            "grid_column": null,
            "grid_gap": null,
            "grid_row": null,
            "grid_template_areas": null,
            "grid_template_columns": null,
            "grid_template_rows": null,
            "height": null,
            "justify_content": null,
            "justify_items": null,
            "left": null,
            "margin": null,
            "max_height": null,
            "max_width": null,
            "min_height": null,
            "min_width": null,
            "object_fit": null,
            "object_position": null,
            "order": null,
            "overflow": null,
            "overflow_x": null,
            "overflow_y": null,
            "padding": null,
            "right": null,
            "top": null,
            "visibility": null,
            "width": null
          }
        },
        "ea823990947f486eb3b37eb00ea5f5fa": {
          "model_module": "@jupyter-widgets/controls",
          "model_name": "ButtonStyleModel",
          "model_module_version": "1.5.0",
          "state": {
            "_model_module": "@jupyter-widgets/controls",
            "_model_module_version": "1.5.0",
            "_model_name": "ButtonStyleModel",
            "_view_count": null,
            "_view_module": "@jupyter-widgets/base",
            "_view_module_version": "1.2.0",
            "_view_name": "StyleView",
            "button_color": null,
            "font_weight": ""
          }
        },
        "95852cb0738242abad3d61bf10091fda": {
          "model_module": "@jupyter-widgets/output",
          "model_name": "OutputModel",
          "model_module_version": "1.0.0",
          "state": {
            "_dom_classes": [],
            "_model_module": "@jupyter-widgets/output",
            "_model_module_version": "1.0.0",
            "_model_name": "OutputModel",
            "_view_count": null,
            "_view_module": "@jupyter-widgets/output",
            "_view_module_version": "1.0.0",
            "_view_name": "OutputView",
            "layout": "IPY_MODEL_ef40d9c92c964ddc9c98a907bcffb3dd",
            "msg_id": "",
            "outputs": [
              {
                "output_type": "stream",
                "name": "stdout",
                "text": [
                  "Checkout session created successfully!\n",
                  "Please complete your payment on Stripe's secure Checkout page by scanning the QR code below:\n"
                ]
              },
              {
                "output_type": "display_data",
                "data": {
                  "image/png": "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\n",
                  "text/plain": "<IPython.core.display.Image object>"
                },
                "metadata": {}
              },
              {
                "output_type": "stream",
                "name": "stdout",
                "text": [
                  "Payment successful!\n"
                ]
              }
            ]
          }
        },
        "ef40d9c92c964ddc9c98a907bcffb3dd": {
          "model_module": "@jupyter-widgets/base",
          "model_name": "LayoutModel",
          "model_module_version": "1.2.0",
          "state": {
            "_model_module": "@jupyter-widgets/base",
            "_model_module_version": "1.2.0",
            "_model_name": "LayoutModel",
            "_view_count": null,
            "_view_module": "@jupyter-widgets/base",
            "_view_module_version": "1.2.0",
            "_view_name": "LayoutView",
            "align_content": null,
            "align_items": null,
            "align_self": null,
            "border": null,
            "bottom": null,
            "display": null,
            "flex": null,
            "flex_flow": null,
            "grid_area": null,
            "grid_auto_columns": null,
            "grid_auto_flow": null,
            "grid_auto_rows": null,
            "grid_column": null,
            "grid_gap": null,
            "grid_row": null,
            "grid_template_areas": null,
            "grid_template_columns": null,
            "grid_template_rows": null,
            "height": null,
            "justify_content": null,
            "justify_items": null,
            "left": null,
            "margin": null,
            "max_height": null,
            "max_width": null,
            "min_height": null,
            "min_width": null,
            "object_fit": null,
            "object_position": null,
            "order": null,
            "overflow": null,
            "overflow_x": null,
            "overflow_y": null,
            "padding": null,
            "right": null,
            "top": null,
            "visibility": null,
            "width": null
          }
        },
        "3fafb9021ddb48df9d94b0a37d218507": {
          "model_module": "@jupyter-widgets/controls",
          "model_name": "ButtonModel",
          "model_module_version": "1.5.0",
          "state": {
            "_dom_classes": [],
            "_model_module": "@jupyter-widgets/controls",
            "_model_module_version": "1.5.0",
            "_model_name": "ButtonModel",
            "_view_count": null,
            "_view_module": "@jupyter-widgets/controls",
            "_view_module_version": "1.5.0",
            "_view_name": "ButtonView",
            "button_style": "primary",
            "description": "Pay",
            "disabled": false,
            "icon": "",
            "layout": "IPY_MODEL_85607fb7a4ea4be9a9018519f0f0da86",
            "style": "IPY_MODEL_bf1206a727e64d59811ab5a7c68f928c",
            "tooltip": "Click to open the Stripe Checkout page"
          }
        },
        "85607fb7a4ea4be9a9018519f0f0da86": {
          "model_module": "@jupyter-widgets/base",
          "model_name": "LayoutModel",
          "model_module_version": "1.2.0",
          "state": {
            "_model_module": "@jupyter-widgets/base",
            "_model_module_version": "1.2.0",
            "_model_name": "LayoutModel",
            "_view_count": null,
            "_view_module": "@jupyter-widgets/base",
            "_view_module_version": "1.2.0",
            "_view_name": "LayoutView",
            "align_content": null,
            "align_items": null,
            "align_self": null,
            "border": null,
            "bottom": null,
            "display": null,
            "flex": null,
            "flex_flow": null,
            "grid_area": null,
            "grid_auto_columns": null,
            "grid_auto_flow": null,
            "grid_auto_rows": null,
            "grid_column": null,
            "grid_gap": null,
            "grid_row": null,
            "grid_template_areas": null,
            "grid_template_columns": null,
            "grid_template_rows": null,
            "height": null,
            "justify_content": null,
            "justify_items": null,
            "left": null,
            "margin": null,
            "max_height": null,
            "max_width": null,
            "min_height": null,
            "min_width": null,
            "object_fit": null,
            "object_position": null,
            "order": null,
            "overflow": null,
            "overflow_x": null,
            "overflow_y": null,
            "padding": null,
            "right": null,
            "top": null,
            "visibility": null,
            "width": null
          }
        },
        "bf1206a727e64d59811ab5a7c68f928c": {
          "model_module": "@jupyter-widgets/controls",
          "model_name": "ButtonStyleModel",
          "model_module_version": "1.5.0",
          "state": {
            "_model_module": "@jupyter-widgets/controls",
            "_model_module_version": "1.5.0",
            "_model_name": "ButtonStyleModel",
            "_view_count": null,
            "_view_module": "@jupyter-widgets/base",
            "_view_module_version": "1.2.0",
            "_view_name": "StyleView",
            "button_color": null,
            "font_weight": ""
          }
        },
        "0a4a05f299fb4525addeb6ecc633dff6": {
          "model_module": "@jupyter-widgets/output",
          "model_name": "OutputModel",
          "model_module_version": "1.0.0",
          "state": {
            "_dom_classes": [],
            "_model_module": "@jupyter-widgets/output",
            "_model_module_version": "1.0.0",
            "_model_name": "OutputModel",
            "_view_count": null,
            "_view_module": "@jupyter-widgets/output",
            "_view_module_version": "1.0.0",
            "_view_name": "OutputView",
            "layout": "IPY_MODEL_8bd617262e4c40c49d37e9667fc15511",
            "msg_id": "",
            "outputs": [
              {
                "output_type": "stream",
                "name": "stdout",
                "text": [
                  "Checkout session created successfully!\n",
                  "Please complete your payment on Stripe's secure Checkout page by scanning the QR code below:\n"
                ]
              },
              {
                "output_type": "display_data",
                "data": {
                  "image/png": "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\n",
                  "text/plain": "<IPython.core.display.Image object>"
                },
                "metadata": {}
              }
            ]
          }
        },
        "8bd617262e4c40c49d37e9667fc15511": {
          "model_module": "@jupyter-widgets/base",
          "model_name": "LayoutModel",
          "model_module_version": "1.2.0",
          "state": {
            "_model_module": "@jupyter-widgets/base",
            "_model_module_version": "1.2.0",
            "_model_name": "LayoutModel",
            "_view_count": null,
            "_view_module": "@jupyter-widgets/base",
            "_view_module_version": "1.2.0",
            "_view_name": "LayoutView",
            "align_content": null,
            "align_items": null,
            "align_self": null,
            "border": null,
            "bottom": null,
            "display": null,
            "flex": null,
            "flex_flow": null,
            "grid_area": null,
            "grid_auto_columns": null,
            "grid_auto_flow": null,
            "grid_auto_rows": null,
            "grid_column": null,
            "grid_gap": null,
            "grid_row": null,
            "grid_template_areas": null,
            "grid_template_columns": null,
            "grid_template_rows": null,
            "height": null,
            "justify_content": null,
            "justify_items": null,
            "left": null,
            "margin": null,
            "max_height": null,
            "max_width": null,
            "min_height": null,
            "min_width": null,
            "object_fit": null,
            "object_position": null,
            "order": null,
            "overflow": null,
            "overflow_x": null,
            "overflow_y": null,
            "padding": null,
            "right": null,
            "top": null,
            "visibility": null,
            "width": null
          }
        }
      }
    }
  },
  "cells": [
    {
      "cell_type": "markdown",
      "source": [
        "**Necessary package installs for everything to be functional.**"
      ],
      "metadata": {
        "id": "91CdfN-horlR"
      }
    },
    {
      "cell_type": "code",
      "source": [
        "# First, install the stripe library (uncomment the next line if not installed)\n",
        "!pip install stripe\n",
        "!pip install stripe ipywidgets\n",
        "!pip install stripe ipywidgets qrcode[pil]\n"
      ],
      "metadata": {
        "id": "ZPhV3uxFhesF",
        "outputId": "aa2e4859-7d10-4212-9146-7eed0f227a7c",
        "colab": {
          "base_uri": "https://localhost:8080/"
        }
      },
      "execution_count": null,
      "outputs": [
        {
          "output_type": "stream",
          "name": "stdout",
          "text": [
            "Collecting stripe\n",
            "  Downloading stripe-11.5.0-py2.py3-none-any.whl.metadata (2.7 kB)\n",
            "Requirement already satisfied: requests>=2.20 in /usr/local/lib/python3.11/dist-packages (from stripe) (2.32.3)\n",
            "Requirement already satisfied: typing-extensions>=4.5.0 in /usr/local/lib/python3.11/dist-packages (from stripe) (4.12.2)\n",
            "Requirement already satisfied: charset-normalizer<4,>=2 in /usr/local/lib/python3.11/dist-packages (from requests>=2.20->stripe) (3.4.1)\n",
            "Requirement already satisfied: idna<4,>=2.5 in /usr/local/lib/python3.11/dist-packages (from requests>=2.20->stripe) (3.10)\n",
            "Requirement already satisfied: urllib3<3,>=1.21.1 in /usr/local/lib/python3.11/dist-packages (from requests>=2.20->stripe) (2.3.0)\n",
            "Requirement already satisfied: certifi>=2017.4.17 in /usr/local/lib/python3.11/dist-packages (from requests>=2.20->stripe) (2025.1.31)\n",
            "Downloading stripe-11.5.0-py2.py3-none-any.whl (1.6 MB)\n",
            "\u001b[2K   \u001b[90m━━━━━━━━━━━━━━━━━━━━━━━━━━━━━━━━━━━━━━━━\u001b[0m \u001b[32m1.6/1.6 MB\u001b[0m \u001b[31m15.6 MB/s\u001b[0m eta \u001b[36m0:00:00\u001b[0m\n",
            "\u001b[?25hInstalling collected packages: stripe\n",
            "Successfully installed stripe-11.5.0\n",
            "Requirement already satisfied: stripe in /usr/local/lib/python3.11/dist-packages (11.5.0)\n",
            "Requirement already satisfied: ipywidgets in /usr/local/lib/python3.11/dist-packages (7.7.1)\n",
            "Requirement already satisfied: requests>=2.20 in /usr/local/lib/python3.11/dist-packages (from stripe) (2.32.3)\n",
            "Requirement already satisfied: typing-extensions>=4.5.0 in /usr/local/lib/python3.11/dist-packages (from stripe) (4.12.2)\n",
            "Requirement already satisfied: ipykernel>=4.5.1 in /usr/local/lib/python3.11/dist-packages (from ipywidgets) (6.17.1)\n",
            "Requirement already satisfied: ipython-genutils~=0.2.0 in /usr/local/lib/python3.11/dist-packages (from ipywidgets) (0.2.0)\n",
            "Requirement already satisfied: traitlets>=4.3.1 in /usr/local/lib/python3.11/dist-packages (from ipywidgets) (5.7.1)\n",
            "Requirement already satisfied: widgetsnbextension~=3.6.0 in /usr/local/lib/python3.11/dist-packages (from ipywidgets) (3.6.10)\n",
            "Requirement already satisfied: ipython>=4.0.0 in /usr/local/lib/python3.11/dist-packages (from ipywidgets) (7.34.0)\n",
            "Requirement already satisfied: jupyterlab-widgets>=1.0.0 in /usr/local/lib/python3.11/dist-packages (from ipywidgets) (3.0.13)\n",
            "Requirement already satisfied: debugpy>=1.0 in /usr/local/lib/python3.11/dist-packages (from ipykernel>=4.5.1->ipywidgets) (1.8.0)\n",
            "Requirement already satisfied: jupyter-client>=6.1.12 in /usr/local/lib/python3.11/dist-packages (from ipykernel>=4.5.1->ipywidgets) (6.1.12)\n",
            "Requirement already satisfied: matplotlib-inline>=0.1 in /usr/local/lib/python3.11/dist-packages (from ipykernel>=4.5.1->ipywidgets) (0.1.7)\n",
            "Requirement already satisfied: nest-asyncio in /usr/local/lib/python3.11/dist-packages (from ipykernel>=4.5.1->ipywidgets) (1.6.0)\n",
            "Requirement already satisfied: packaging in /usr/local/lib/python3.11/dist-packages (from ipykernel>=4.5.1->ipywidgets) (24.2)\n",
            "Requirement already satisfied: psutil in /usr/local/lib/python3.11/dist-packages (from ipykernel>=4.5.1->ipywidgets) (5.9.5)\n",
            "Requirement already satisfied: pyzmq>=17 in /usr/local/lib/python3.11/dist-packages (from ipykernel>=4.5.1->ipywidgets) (24.0.1)\n",
            "Requirement already satisfied: tornado>=6.1 in /usr/local/lib/python3.11/dist-packages (from ipykernel>=4.5.1->ipywidgets) (6.4.2)\n",
            "Requirement already satisfied: setuptools>=18.5 in /usr/local/lib/python3.11/dist-packages (from ipython>=4.0.0->ipywidgets) (75.1.0)\n",
            "Collecting jedi>=0.16 (from ipython>=4.0.0->ipywidgets)\n",
            "  Downloading jedi-0.19.2-py2.py3-none-any.whl.metadata (22 kB)\n",
            "Requirement already satisfied: decorator in /usr/local/lib/python3.11/dist-packages (from ipython>=4.0.0->ipywidgets) (4.4.2)\n",
            "Requirement already satisfied: pickleshare in /usr/local/lib/python3.11/dist-packages (from ipython>=4.0.0->ipywidgets) (0.7.5)\n",
            "Requirement already satisfied: prompt-toolkit!=3.0.0,!=3.0.1,<3.1.0,>=2.0.0 in /usr/local/lib/python3.11/dist-packages (from ipython>=4.0.0->ipywidgets) (3.0.50)\n",
            "Requirement already satisfied: pygments in /usr/local/lib/python3.11/dist-packages (from ipython>=4.0.0->ipywidgets) (2.18.0)\n",
            "Requirement already satisfied: backcall in /usr/local/lib/python3.11/dist-packages (from ipython>=4.0.0->ipywidgets) (0.2.0)\n",
            "Requirement already satisfied: pexpect>4.3 in /usr/local/lib/python3.11/dist-packages (from ipython>=4.0.0->ipywidgets) (4.9.0)\n",
            "Requirement already satisfied: charset-normalizer<4,>=2 in /usr/local/lib/python3.11/dist-packages (from requests>=2.20->stripe) (3.4.1)\n",
            "Requirement already satisfied: idna<4,>=2.5 in /usr/local/lib/python3.11/dist-packages (from requests>=2.20->stripe) (3.10)\n",
            "Requirement already satisfied: urllib3<3,>=1.21.1 in /usr/local/lib/python3.11/dist-packages (from requests>=2.20->stripe) (2.3.0)\n",
            "Requirement already satisfied: certifi>=2017.4.17 in /usr/local/lib/python3.11/dist-packages (from requests>=2.20->stripe) (2025.1.31)\n",
            "Requirement already satisfied: notebook>=4.4.1 in /usr/local/lib/python3.11/dist-packages (from widgetsnbextension~=3.6.0->ipywidgets) (6.5.5)\n",
            "Requirement already satisfied: parso<0.9.0,>=0.8.4 in /usr/local/lib/python3.11/dist-packages (from jedi>=0.16->ipython>=4.0.0->ipywidgets) (0.8.4)\n",
            "Requirement already satisfied: jupyter-core>=4.6.0 in /usr/local/lib/python3.11/dist-packages (from jupyter-client>=6.1.12->ipykernel>=4.5.1->ipywidgets) (5.7.2)\n",
            "Requirement already satisfied: python-dateutil>=2.1 in /usr/local/lib/python3.11/dist-packages (from jupyter-client>=6.1.12->ipykernel>=4.5.1->ipywidgets) (2.8.2)\n",
            "Requirement already satisfied: jinja2 in /usr/local/lib/python3.11/dist-packages (from notebook>=4.4.1->widgetsnbextension~=3.6.0->ipywidgets) (3.1.5)\n",
            "Requirement already satisfied: argon2-cffi in /usr/local/lib/python3.11/dist-packages (from notebook>=4.4.1->widgetsnbextension~=3.6.0->ipywidgets) (23.1.0)\n",
            "Requirement already satisfied: nbformat in /usr/local/lib/python3.11/dist-packages (from notebook>=4.4.1->widgetsnbextension~=3.6.0->ipywidgets) (5.10.4)\n",
            "Requirement already satisfied: nbconvert>=5 in /usr/local/lib/python3.11/dist-packages (from notebook>=4.4.1->widgetsnbextension~=3.6.0->ipywidgets) (7.16.6)\n",
            "Requirement already satisfied: Send2Trash>=1.8.0 in /usr/local/lib/python3.11/dist-packages (from notebook>=4.4.1->widgetsnbextension~=3.6.0->ipywidgets) (1.8.3)\n",
            "Requirement already satisfied: terminado>=0.8.3 in /usr/local/lib/python3.11/dist-packages (from notebook>=4.4.1->widgetsnbextension~=3.6.0->ipywidgets) (0.18.1)\n",
            "Requirement already satisfied: prometheus-client in /usr/local/lib/python3.11/dist-packages (from notebook>=4.4.1->widgetsnbextension~=3.6.0->ipywidgets) (0.21.1)\n",
            "Requirement already satisfied: nbclassic>=0.4.7 in /usr/local/lib/python3.11/dist-packages (from notebook>=4.4.1->widgetsnbextension~=3.6.0->ipywidgets) (1.2.0)\n",
            "Requirement already satisfied: ptyprocess>=0.5 in /usr/local/lib/python3.11/dist-packages (from pexpect>4.3->ipython>=4.0.0->ipywidgets) (0.7.0)\n",
            "Requirement already satisfied: wcwidth in /usr/local/lib/python3.11/dist-packages (from prompt-toolkit!=3.0.0,!=3.0.1,<3.1.0,>=2.0.0->ipython>=4.0.0->ipywidgets) (0.2.13)\n",
            "Requirement already satisfied: platformdirs>=2.5 in /usr/local/lib/python3.11/dist-packages (from jupyter-core>=4.6.0->jupyter-client>=6.1.12->ipykernel>=4.5.1->ipywidgets) (4.3.6)\n",
            "Requirement already satisfied: notebook-shim>=0.2.3 in /usr/local/lib/python3.11/dist-packages (from nbclassic>=0.4.7->notebook>=4.4.1->widgetsnbextension~=3.6.0->ipywidgets) (0.2.4)\n",
            "Requirement already satisfied: beautifulsoup4 in /usr/local/lib/python3.11/dist-packages (from nbconvert>=5->notebook>=4.4.1->widgetsnbextension~=3.6.0->ipywidgets) (4.13.3)\n",
            "Requirement already satisfied: bleach!=5.0.0 in /usr/local/lib/python3.11/dist-packages (from bleach[css]!=5.0.0->nbconvert>=5->notebook>=4.4.1->widgetsnbextension~=3.6.0->ipywidgets) (6.2.0)\n",
            "Requirement already satisfied: defusedxml in /usr/local/lib/python3.11/dist-packages (from nbconvert>=5->notebook>=4.4.1->widgetsnbextension~=3.6.0->ipywidgets) (0.7.1)\n",
            "Requirement already satisfied: jupyterlab-pygments in /usr/local/lib/python3.11/dist-packages (from nbconvert>=5->notebook>=4.4.1->widgetsnbextension~=3.6.0->ipywidgets) (0.3.0)\n",
            "Requirement already satisfied: markupsafe>=2.0 in /usr/local/lib/python3.11/dist-packages (from nbconvert>=5->notebook>=4.4.1->widgetsnbextension~=3.6.0->ipywidgets) (3.0.2)\n",
            "Requirement already satisfied: mistune<4,>=2.0.3 in /usr/local/lib/python3.11/dist-packages (from nbconvert>=5->notebook>=4.4.1->widgetsnbextension~=3.6.0->ipywidgets) (3.1.2)\n",
            "Requirement already satisfied: nbclient>=0.5.0 in /usr/local/lib/python3.11/dist-packages (from nbconvert>=5->notebook>=4.4.1->widgetsnbextension~=3.6.0->ipywidgets) (0.10.2)\n",
            "Requirement already satisfied: pandocfilters>=1.4.1 in /usr/local/lib/python3.11/dist-packages (from nbconvert>=5->notebook>=4.4.1->widgetsnbextension~=3.6.0->ipywidgets) (1.5.1)\n",
            "Requirement already satisfied: fastjsonschema>=2.15 in /usr/local/lib/python3.11/dist-packages (from nbformat->notebook>=4.4.1->widgetsnbextension~=3.6.0->ipywidgets) (2.21.1)\n",
            "Requirement already satisfied: jsonschema>=2.6 in /usr/local/lib/python3.11/dist-packages (from nbformat->notebook>=4.4.1->widgetsnbextension~=3.6.0->ipywidgets) (4.23.0)\n",
            "Requirement already satisfied: six>=1.5 in /usr/local/lib/python3.11/dist-packages (from python-dateutil>=2.1->jupyter-client>=6.1.12->ipykernel>=4.5.1->ipywidgets) (1.17.0)\n",
            "Requirement already satisfied: argon2-cffi-bindings in /usr/local/lib/python3.11/dist-packages (from argon2-cffi->notebook>=4.4.1->widgetsnbextension~=3.6.0->ipywidgets) (21.2.0)\n",
            "Requirement already satisfied: webencodings in /usr/local/lib/python3.11/dist-packages (from bleach!=5.0.0->bleach[css]!=5.0.0->nbconvert>=5->notebook>=4.4.1->widgetsnbextension~=3.6.0->ipywidgets) (0.5.1)\n",
            "Requirement already satisfied: tinycss2<1.5,>=1.1.0 in /usr/local/lib/python3.11/dist-packages (from bleach[css]!=5.0.0->nbconvert>=5->notebook>=4.4.1->widgetsnbextension~=3.6.0->ipywidgets) (1.4.0)\n",
            "Requirement already satisfied: attrs>=22.2.0 in /usr/local/lib/python3.11/dist-packages (from jsonschema>=2.6->nbformat->notebook>=4.4.1->widgetsnbextension~=3.6.0->ipywidgets) (25.1.0)\n",
            "Requirement already satisfied: jsonschema-specifications>=2023.03.6 in /usr/local/lib/python3.11/dist-packages (from jsonschema>=2.6->nbformat->notebook>=4.4.1->widgetsnbextension~=3.6.0->ipywidgets) (2024.10.1)\n",
            "Requirement already satisfied: referencing>=0.28.4 in /usr/local/lib/python3.11/dist-packages (from jsonschema>=2.6->nbformat->notebook>=4.4.1->widgetsnbextension~=3.6.0->ipywidgets) (0.36.2)\n",
            "Requirement already satisfied: rpds-py>=0.7.1 in /usr/local/lib/python3.11/dist-packages (from jsonschema>=2.6->nbformat->notebook>=4.4.1->widgetsnbextension~=3.6.0->ipywidgets) (0.22.3)\n",
            "Requirement already satisfied: jupyter-server<3,>=1.8 in /usr/local/lib/python3.11/dist-packages (from notebook-shim>=0.2.3->nbclassic>=0.4.7->notebook>=4.4.1->widgetsnbextension~=3.6.0->ipywidgets) (1.24.0)\n",
            "Requirement already satisfied: cffi>=1.0.1 in /usr/local/lib/python3.11/dist-packages (from argon2-cffi-bindings->argon2-cffi->notebook>=4.4.1->widgetsnbextension~=3.6.0->ipywidgets) (1.17.1)\n",
            "Requirement already satisfied: soupsieve>1.2 in /usr/local/lib/python3.11/dist-packages (from beautifulsoup4->nbconvert>=5->notebook>=4.4.1->widgetsnbextension~=3.6.0->ipywidgets) (2.6)\n",
            "Requirement already satisfied: pycparser in /usr/local/lib/python3.11/dist-packages (from cffi>=1.0.1->argon2-cffi-bindings->argon2-cffi->notebook>=4.4.1->widgetsnbextension~=3.6.0->ipywidgets) (2.22)\n",
            "Requirement already satisfied: anyio<4,>=3.1.0 in /usr/local/lib/python3.11/dist-packages (from jupyter-server<3,>=1.8->notebook-shim>=0.2.3->nbclassic>=0.4.7->notebook>=4.4.1->widgetsnbextension~=3.6.0->ipywidgets) (3.7.1)\n",
            "Requirement already satisfied: websocket-client in /usr/local/lib/python3.11/dist-packages (from jupyter-server<3,>=1.8->notebook-shim>=0.2.3->nbclassic>=0.4.7->notebook>=4.4.1->widgetsnbextension~=3.6.0->ipywidgets) (1.8.0)\n",
            "Requirement already satisfied: sniffio>=1.1 in /usr/local/lib/python3.11/dist-packages (from anyio<4,>=3.1.0->jupyter-server<3,>=1.8->notebook-shim>=0.2.3->nbclassic>=0.4.7->notebook>=4.4.1->widgetsnbextension~=3.6.0->ipywidgets) (1.3.1)\n",
            "Downloading jedi-0.19.2-py2.py3-none-any.whl (1.6 MB)\n",
            "\u001b[2K   \u001b[90m━━━━━━━━━━━━━━━━━━━━━━━━━━━━━━━━━━━━━━━━\u001b[0m \u001b[32m1.6/1.6 MB\u001b[0m \u001b[31m19.2 MB/s\u001b[0m eta \u001b[36m0:00:00\u001b[0m\n",
            "\u001b[?25hInstalling collected packages: jedi\n",
            "Successfully installed jedi-0.19.2\n",
            "Requirement already satisfied: stripe in /usr/local/lib/python3.11/dist-packages (11.5.0)\n",
            "Requirement already satisfied: ipywidgets in /usr/local/lib/python3.11/dist-packages (7.7.1)\n",
            "Collecting qrcode[pil]\n",
            "  Downloading qrcode-8.0-py3-none-any.whl.metadata (17 kB)\n",
            "Requirement already satisfied: requests>=2.20 in /usr/local/lib/python3.11/dist-packages (from stripe) (2.32.3)\n",
            "Requirement already satisfied: typing-extensions>=4.5.0 in /usr/local/lib/python3.11/dist-packages (from stripe) (4.12.2)\n",
            "Requirement already satisfied: ipykernel>=4.5.1 in /usr/local/lib/python3.11/dist-packages (from ipywidgets) (6.17.1)\n",
            "Requirement already satisfied: ipython-genutils~=0.2.0 in /usr/local/lib/python3.11/dist-packages (from ipywidgets) (0.2.0)\n",
            "Requirement already satisfied: traitlets>=4.3.1 in /usr/local/lib/python3.11/dist-packages (from ipywidgets) (5.7.1)\n",
            "Requirement already satisfied: widgetsnbextension~=3.6.0 in /usr/local/lib/python3.11/dist-packages (from ipywidgets) (3.6.10)\n",
            "Requirement already satisfied: ipython>=4.0.0 in /usr/local/lib/python3.11/dist-packages (from ipywidgets) (7.34.0)\n",
            "Requirement already satisfied: jupyterlab-widgets>=1.0.0 in /usr/local/lib/python3.11/dist-packages (from ipywidgets) (3.0.13)\n",
            "Requirement already satisfied: pillow>=9.1.0 in /usr/local/lib/python3.11/dist-packages (from qrcode[pil]) (11.1.0)\n",
            "Requirement already satisfied: debugpy>=1.0 in /usr/local/lib/python3.11/dist-packages (from ipykernel>=4.5.1->ipywidgets) (1.8.0)\n",
            "Requirement already satisfied: jupyter-client>=6.1.12 in /usr/local/lib/python3.11/dist-packages (from ipykernel>=4.5.1->ipywidgets) (6.1.12)\n",
            "Requirement already satisfied: matplotlib-inline>=0.1 in /usr/local/lib/python3.11/dist-packages (from ipykernel>=4.5.1->ipywidgets) (0.1.7)\n",
            "Requirement already satisfied: nest-asyncio in /usr/local/lib/python3.11/dist-packages (from ipykernel>=4.5.1->ipywidgets) (1.6.0)\n",
            "Requirement already satisfied: packaging in /usr/local/lib/python3.11/dist-packages (from ipykernel>=4.5.1->ipywidgets) (24.2)\n",
            "Requirement already satisfied: psutil in /usr/local/lib/python3.11/dist-packages (from ipykernel>=4.5.1->ipywidgets) (5.9.5)\n",
            "Requirement already satisfied: pyzmq>=17 in /usr/local/lib/python3.11/dist-packages (from ipykernel>=4.5.1->ipywidgets) (24.0.1)\n",
            "Requirement already satisfied: tornado>=6.1 in /usr/local/lib/python3.11/dist-packages (from ipykernel>=4.5.1->ipywidgets) (6.4.2)\n",
            "Requirement already satisfied: setuptools>=18.5 in /usr/local/lib/python3.11/dist-packages (from ipython>=4.0.0->ipywidgets) (75.1.0)\n",
            "Requirement already satisfied: jedi>=0.16 in /usr/local/lib/python3.11/dist-packages (from ipython>=4.0.0->ipywidgets) (0.19.2)\n",
            "Requirement already satisfied: decorator in /usr/local/lib/python3.11/dist-packages (from ipython>=4.0.0->ipywidgets) (4.4.2)\n",
            "Requirement already satisfied: pickleshare in /usr/local/lib/python3.11/dist-packages (from ipython>=4.0.0->ipywidgets) (0.7.5)\n",
            "Requirement already satisfied: prompt-toolkit!=3.0.0,!=3.0.1,<3.1.0,>=2.0.0 in /usr/local/lib/python3.11/dist-packages (from ipython>=4.0.0->ipywidgets) (3.0.50)\n",
            "Requirement already satisfied: pygments in /usr/local/lib/python3.11/dist-packages (from ipython>=4.0.0->ipywidgets) (2.18.0)\n",
            "Requirement already satisfied: backcall in /usr/local/lib/python3.11/dist-packages (from ipython>=4.0.0->ipywidgets) (0.2.0)\n",
            "Requirement already satisfied: pexpect>4.3 in /usr/local/lib/python3.11/dist-packages (from ipython>=4.0.0->ipywidgets) (4.9.0)\n",
            "Requirement already satisfied: charset-normalizer<4,>=2 in /usr/local/lib/python3.11/dist-packages (from requests>=2.20->stripe) (3.4.1)\n",
            "Requirement already satisfied: idna<4,>=2.5 in /usr/local/lib/python3.11/dist-packages (from requests>=2.20->stripe) (3.10)\n",
            "Requirement already satisfied: urllib3<3,>=1.21.1 in /usr/local/lib/python3.11/dist-packages (from requests>=2.20->stripe) (2.3.0)\n",
            "Requirement already satisfied: certifi>=2017.4.17 in /usr/local/lib/python3.11/dist-packages (from requests>=2.20->stripe) (2025.1.31)\n",
            "Requirement already satisfied: notebook>=4.4.1 in /usr/local/lib/python3.11/dist-packages (from widgetsnbextension~=3.6.0->ipywidgets) (6.5.5)\n",
            "Requirement already satisfied: parso<0.9.0,>=0.8.4 in /usr/local/lib/python3.11/dist-packages (from jedi>=0.16->ipython>=4.0.0->ipywidgets) (0.8.4)\n",
            "Requirement already satisfied: jupyter-core>=4.6.0 in /usr/local/lib/python3.11/dist-packages (from jupyter-client>=6.1.12->ipykernel>=4.5.1->ipywidgets) (5.7.2)\n",
            "Requirement already satisfied: python-dateutil>=2.1 in /usr/local/lib/python3.11/dist-packages (from jupyter-client>=6.1.12->ipykernel>=4.5.1->ipywidgets) (2.8.2)\n",
            "Requirement already satisfied: jinja2 in /usr/local/lib/python3.11/dist-packages (from notebook>=4.4.1->widgetsnbextension~=3.6.0->ipywidgets) (3.1.5)\n",
            "Requirement already satisfied: argon2-cffi in /usr/local/lib/python3.11/dist-packages (from notebook>=4.4.1->widgetsnbextension~=3.6.0->ipywidgets) (23.1.0)\n",
            "Requirement already satisfied: nbformat in /usr/local/lib/python3.11/dist-packages (from notebook>=4.4.1->widgetsnbextension~=3.6.0->ipywidgets) (5.10.4)\n",
            "Requirement already satisfied: nbconvert>=5 in /usr/local/lib/python3.11/dist-packages (from notebook>=4.4.1->widgetsnbextension~=3.6.0->ipywidgets) (7.16.6)\n",
            "Requirement already satisfied: Send2Trash>=1.8.0 in /usr/local/lib/python3.11/dist-packages (from notebook>=4.4.1->widgetsnbextension~=3.6.0->ipywidgets) (1.8.3)\n",
            "Requirement already satisfied: terminado>=0.8.3 in /usr/local/lib/python3.11/dist-packages (from notebook>=4.4.1->widgetsnbextension~=3.6.0->ipywidgets) (0.18.1)\n",
            "Requirement already satisfied: prometheus-client in /usr/local/lib/python3.11/dist-packages (from notebook>=4.4.1->widgetsnbextension~=3.6.0->ipywidgets) (0.21.1)\n",
            "Requirement already satisfied: nbclassic>=0.4.7 in /usr/local/lib/python3.11/dist-packages (from notebook>=4.4.1->widgetsnbextension~=3.6.0->ipywidgets) (1.2.0)\n",
            "Requirement already satisfied: ptyprocess>=0.5 in /usr/local/lib/python3.11/dist-packages (from pexpect>4.3->ipython>=4.0.0->ipywidgets) (0.7.0)\n",
            "Requirement already satisfied: wcwidth in /usr/local/lib/python3.11/dist-packages (from prompt-toolkit!=3.0.0,!=3.0.1,<3.1.0,>=2.0.0->ipython>=4.0.0->ipywidgets) (0.2.13)\n",
            "Requirement already satisfied: platformdirs>=2.5 in /usr/local/lib/python3.11/dist-packages (from jupyter-core>=4.6.0->jupyter-client>=6.1.12->ipykernel>=4.5.1->ipywidgets) (4.3.6)\n",
            "Requirement already satisfied: notebook-shim>=0.2.3 in /usr/local/lib/python3.11/dist-packages (from nbclassic>=0.4.7->notebook>=4.4.1->widgetsnbextension~=3.6.0->ipywidgets) (0.2.4)\n",
            "Requirement already satisfied: beautifulsoup4 in /usr/local/lib/python3.11/dist-packages (from nbconvert>=5->notebook>=4.4.1->widgetsnbextension~=3.6.0->ipywidgets) (4.13.3)\n",
            "Requirement already satisfied: bleach!=5.0.0 in /usr/local/lib/python3.11/dist-packages (from bleach[css]!=5.0.0->nbconvert>=5->notebook>=4.4.1->widgetsnbextension~=3.6.0->ipywidgets) (6.2.0)\n",
            "Requirement already satisfied: defusedxml in /usr/local/lib/python3.11/dist-packages (from nbconvert>=5->notebook>=4.4.1->widgetsnbextension~=3.6.0->ipywidgets) (0.7.1)\n",
            "Requirement already satisfied: jupyterlab-pygments in /usr/local/lib/python3.11/dist-packages (from nbconvert>=5->notebook>=4.4.1->widgetsnbextension~=3.6.0->ipywidgets) (0.3.0)\n",
            "Requirement already satisfied: markupsafe>=2.0 in /usr/local/lib/python3.11/dist-packages (from nbconvert>=5->notebook>=4.4.1->widgetsnbextension~=3.6.0->ipywidgets) (3.0.2)\n",
            "Requirement already satisfied: mistune<4,>=2.0.3 in /usr/local/lib/python3.11/dist-packages (from nbconvert>=5->notebook>=4.4.1->widgetsnbextension~=3.6.0->ipywidgets) (3.1.2)\n",
            "Requirement already satisfied: nbclient>=0.5.0 in /usr/local/lib/python3.11/dist-packages (from nbconvert>=5->notebook>=4.4.1->widgetsnbextension~=3.6.0->ipywidgets) (0.10.2)\n",
            "Requirement already satisfied: pandocfilters>=1.4.1 in /usr/local/lib/python3.11/dist-packages (from nbconvert>=5->notebook>=4.4.1->widgetsnbextension~=3.6.0->ipywidgets) (1.5.1)\n",
            "Requirement already satisfied: fastjsonschema>=2.15 in /usr/local/lib/python3.11/dist-packages (from nbformat->notebook>=4.4.1->widgetsnbextension~=3.6.0->ipywidgets) (2.21.1)\n",
            "Requirement already satisfied: jsonschema>=2.6 in /usr/local/lib/python3.11/dist-packages (from nbformat->notebook>=4.4.1->widgetsnbextension~=3.6.0->ipywidgets) (4.23.0)\n",
            "Requirement already satisfied: six>=1.5 in /usr/local/lib/python3.11/dist-packages (from python-dateutil>=2.1->jupyter-client>=6.1.12->ipykernel>=4.5.1->ipywidgets) (1.17.0)\n",
            "Requirement already satisfied: argon2-cffi-bindings in /usr/local/lib/python3.11/dist-packages (from argon2-cffi->notebook>=4.4.1->widgetsnbextension~=3.6.0->ipywidgets) (21.2.0)\n",
            "Requirement already satisfied: webencodings in /usr/local/lib/python3.11/dist-packages (from bleach!=5.0.0->bleach[css]!=5.0.0->nbconvert>=5->notebook>=4.4.1->widgetsnbextension~=3.6.0->ipywidgets) (0.5.1)\n",
            "Requirement already satisfied: tinycss2<1.5,>=1.1.0 in /usr/local/lib/python3.11/dist-packages (from bleach[css]!=5.0.0->nbconvert>=5->notebook>=4.4.1->widgetsnbextension~=3.6.0->ipywidgets) (1.4.0)\n",
            "Requirement already satisfied: attrs>=22.2.0 in /usr/local/lib/python3.11/dist-packages (from jsonschema>=2.6->nbformat->notebook>=4.4.1->widgetsnbextension~=3.6.0->ipywidgets) (25.1.0)\n",
            "Requirement already satisfied: jsonschema-specifications>=2023.03.6 in /usr/local/lib/python3.11/dist-packages (from jsonschema>=2.6->nbformat->notebook>=4.4.1->widgetsnbextension~=3.6.0->ipywidgets) (2024.10.1)\n",
            "Requirement already satisfied: referencing>=0.28.4 in /usr/local/lib/python3.11/dist-packages (from jsonschema>=2.6->nbformat->notebook>=4.4.1->widgetsnbextension~=3.6.0->ipywidgets) (0.36.2)\n",
            "Requirement already satisfied: rpds-py>=0.7.1 in /usr/local/lib/python3.11/dist-packages (from jsonschema>=2.6->nbformat->notebook>=4.4.1->widgetsnbextension~=3.6.0->ipywidgets) (0.22.3)\n",
            "Requirement already satisfied: jupyter-server<3,>=1.8 in /usr/local/lib/python3.11/dist-packages (from notebook-shim>=0.2.3->nbclassic>=0.4.7->notebook>=4.4.1->widgetsnbextension~=3.6.0->ipywidgets) (1.24.0)\n",
            "Requirement already satisfied: cffi>=1.0.1 in /usr/local/lib/python3.11/dist-packages (from argon2-cffi-bindings->argon2-cffi->notebook>=4.4.1->widgetsnbextension~=3.6.0->ipywidgets) (1.17.1)\n",
            "Requirement already satisfied: soupsieve>1.2 in /usr/local/lib/python3.11/dist-packages (from beautifulsoup4->nbconvert>=5->notebook>=4.4.1->widgetsnbextension~=3.6.0->ipywidgets) (2.6)\n",
            "Requirement already satisfied: pycparser in /usr/local/lib/python3.11/dist-packages (from cffi>=1.0.1->argon2-cffi-bindings->argon2-cffi->notebook>=4.4.1->widgetsnbextension~=3.6.0->ipywidgets) (2.22)\n",
            "Requirement already satisfied: anyio<4,>=3.1.0 in /usr/local/lib/python3.11/dist-packages (from jupyter-server<3,>=1.8->notebook-shim>=0.2.3->nbclassic>=0.4.7->notebook>=4.4.1->widgetsnbextension~=3.6.0->ipywidgets) (3.7.1)\n",
            "Requirement already satisfied: websocket-client in /usr/local/lib/python3.11/dist-packages (from jupyter-server<3,>=1.8->notebook-shim>=0.2.3->nbclassic>=0.4.7->notebook>=4.4.1->widgetsnbextension~=3.6.0->ipywidgets) (1.8.0)\n",
            "Requirement already satisfied: sniffio>=1.1 in /usr/local/lib/python3.11/dist-packages (from anyio<4,>=3.1.0->jupyter-server<3,>=1.8->notebook-shim>=0.2.3->nbclassic>=0.4.7->notebook>=4.4.1->widgetsnbextension~=3.6.0->ipywidgets) (1.3.1)\n",
            "Downloading qrcode-8.0-py3-none-any.whl (45 kB)\n",
            "\u001b[2K   \u001b[90m━━━━━━━━━━━━━━━━━━━━━━━━━━━━━━━━━━━━━━━━\u001b[0m \u001b[32m45.7/45.7 kB\u001b[0m \u001b[31m396.6 kB/s\u001b[0m eta \u001b[36m0:00:00\u001b[0m\n",
            "\u001b[?25hInstalling collected packages: qrcode\n",
            "Successfully installed qrcode-8.0\n"
          ]
        }
      ]
    },
    {
      "cell_type": "markdown",
      "source": [
        "**Necessary Imports for stripe and some webinteraction for front end.**"
      ],
      "metadata": {
        "id": "CeCyxzf8o6dK"
      }
    },
    {
      "cell_type": "code",
      "source": [
        "import stripe\n",
        "import ipywidgets as widgets\n",
        "from IPython.display import display, HTML, Image\n",
        "import qrcode\n",
        "import io\n",
        "\n",
        "stripe.api_key = \"sk_test_51QtZf905Lo986fYCauDB7uTHm0jtKqdNrYC4HkOl8n1CLtdkA5ZJVNF1isK15PqFObQ9Ax8IQutOsgmJRWBla76400Y5BxJB2I\""
      ],
      "metadata": {
        "id": "I96Ptl2JmcEp"
      },
      "execution_count": null,
      "outputs": []
    },
    {
      "cell_type": "markdown",
      "source": [
        "# **Process Payment with pre-defined card. (it is a test-card)**"
      ],
      "metadata": {
        "id": "WASMg6n9pGkr"
      }
    },
    {
      "cell_type": "code",
      "source": [],
      "metadata": {
        "id": "647-Ewqu0zez"
      },
      "execution_count": null,
      "outputs": []
    },
    {
      "cell_type": "code",
      "source": [
        "def process_payment():\n",
        "    \"\"\"\n",
        "    Processes a payment by creating a PaymentIntent using a test token for a Visa card.\n",
        "    \"\"\"\n",
        "    try:\n",
        "        payment_intent = stripe.PaymentIntent.create(\n",
        "            amount=1099,\n",
        "            currency=\"usd\",\n",
        "            payment_method_data={\n",
        "                \"type\": \"card\",\n",
        "                \"card\": {\n",
        "                    \"token\": \"tok_visa\"\n",
        "                }\n",
        "            },\n",
        "            confirm=True,\n",
        "            return_url=\"https://example.com/return\",\n",
        "            description=\"Test Payment using Visa test token with return_url\"\n",
        "        )\n",
        "        print(\"PaymentIntent created and confirmed successfully:\")\n",
        "        print(payment_intent)\n",
        "    except Exception as e:\n",
        "        print(\"An error occurred while processing the payment:\", e)\n"
      ],
      "metadata": {
        "id": "aiV7pWspmiEJ"
      },
      "execution_count": null,
      "outputs": []
    },
    {
      "cell_type": "code",
      "source": [
        "\n",
        "# Create a button widget with the label \"Pay\"\n",
        "pay_button = widgets.Button(\n",
        "    description=\"Pay\",\n",
        "    button_style='primary',\n",
        "    tooltip=\"Click to process the payment\"\n",
        ")\n",
        "# Create an output widget to display the payment response or errors\n",
        "output = widgets.Output()\n",
        "def on_pay_button_clicked(b):\n",
        "    with output:\n",
        "        output.clear_output()\n",
        "        process_payment()\n",
        "pay_button.on_click(on_pay_button_clicked)\n",
        "display(pay_button, output)"
      ],
      "metadata": {
        "colab": {
          "base_uri": "https://localhost:8080/",
          "height": 49,
          "referenced_widgets": [
            "05703ae5a53f40419de665ef81def16a",
            "0f8c1dba12e941ae962eb05d52c64a78",
            "f2e58f91269a4401af7cba1ca2f5a97d",
            "c1f5f294dd0c47feaf55fb92ae2085c1",
            "f6ac84a7a244477387a0fc038da255c5"
          ]
        },
        "id": "kmKirutDlUC2",
        "outputId": "08eb2900-9481-40d8-96c2-8c8a10fe9729"
      },
      "execution_count": null,
      "outputs": [
        {
          "output_type": "display_data",
          "data": {
            "text/plain": [
              "Button(button_style='primary', description='Pay', style=ButtonStyle(), tooltip='Click to process the payment')"
            ],
            "application/vnd.jupyter.widget-view+json": {
              "version_major": 2,
              "version_minor": 0,
              "model_id": "05703ae5a53f40419de665ef81def16a"
            }
          },
          "metadata": {}
        },
        {
          "output_type": "display_data",
          "data": {
            "text/plain": [
              "Output()"
            ],
            "application/vnd.jupyter.widget-view+json": {
              "version_major": 2,
              "version_minor": 0,
              "model_id": "c1f5f294dd0c47feaf55fb92ae2085c1"
            }
          },
          "metadata": {}
        }
      ]
    },
    {
      "cell_type": "markdown",
      "source": [
        "# **Using stripe checkout.**"
      ],
      "metadata": {
        "id": "Db2CYHrup-rP"
      }
    },
    {
      "cell_type": "markdown",
      "source": [
        "## **No QR code**"
      ],
      "metadata": {
        "id": "dyZpLwrbuCB8"
      }
    },
    {
      "cell_type": "code",
      "source": [
        "def create_checkout_session():\n",
        "    \"\"\"\n",
        "    Creates a Stripe Checkout session to collect card details securely.\n",
        "    \"\"\"\n",
        "    try:\n",
        "        session = stripe.checkout.Session.create(\n",
        "            payment_method_types=['card'],\n",
        "            line_items=[\n",
        "                {\n",
        "                    'price_data': {\n",
        "                        'currency': 'usd',\n",
        "                        'product_data': {\n",
        "                            'name': 'Test Payment',\n",
        "                        },\n",
        "                        'unit_amount': 1099,\n",
        "                    },\n",
        "                    'quantity': 1,\n",
        "                },\n",
        "            ],\n",
        "            mode='payment',\n",
        "            success_url='https://example.com/success?session_id={CHECKOUT_SESSION_ID}',\n",
        "            cancel_url='https://example.com/cancel',\n",
        "        return session\n",
        "    except Exception as e:\n",
        "        print(\"An error occurred while creating checkout session:\", e)\n",
        "        return None\n"
      ],
      "metadata": {
        "id": "0wIXbQqtolTR"
      },
      "execution_count": null,
      "outputs": []
    },
    {
      "cell_type": "code",
      "source": [
        "checkout_button = widgets.Button(\n",
        "    description=\"Pay\",\n",
        "    button_style='primary',\n",
        "    tooltip=\"Click to open the Stripe Checkout page\"\n",
        ")\n",
        "output = widgets.Output()\n",
        "\n",
        "def on_checkout_button_clicked(b):\n",
        "    with output:\n",
        "        output.clear_output()\n",
        "        session = create_checkout_session()\n",
        "        if session:\n",
        "            print(\"Checkout session created successfully!\")\n",
        "            print(\"Please complete your payment on Stripe's secure Checkout page:\")\n",
        "            # Display a clickable link to the Checkout session URL\n",
        "            display(HTML(f'<a href=\"{session.url}\" target=\"_blank\">Click here to pay</a>'))\n",
        "        else:\n",
        "            print(\"Failed to create checkout session.\")\n",
        "checkout_button.on_click(on_checkout_button_clicked)\n",
        "display(checkout_button, output)\n"
      ],
      "metadata": {
        "colab": {
          "base_uri": "https://localhost:8080/",
          "height": 101,
          "referenced_widgets": [
            "0668a543ecd243e080caf5ec223a0f69",
            "e2df283a91ff48eaba068803da7f2be2",
            "19bed72eea1d41ddb4125049b1b39285",
            "0abe853205c948f991bc5f28378533b7",
            "6656c6aa0aa7463dae2f19b7536dbe52"
          ]
        },
        "id": "v9ZlIgCinK-K",
        "outputId": "8baf0c91-833e-4e2b-8a4e-a8d7cbad45f7"
      },
      "execution_count": null,
      "outputs": [
        {
          "output_type": "display_data",
          "data": {
            "text/plain": [
              "Button(button_style='primary', description='Pay', style=ButtonStyle(), tooltip='Click to open the Stripe Check…"
            ],
            "application/vnd.jupyter.widget-view+json": {
              "version_major": 2,
              "version_minor": 0,
              "model_id": "0668a543ecd243e080caf5ec223a0f69"
            }
          },
          "metadata": {}
        },
        {
          "output_type": "display_data",
          "data": {
            "text/plain": [
              "Output()"
            ],
            "application/vnd.jupyter.widget-view+json": {
              "version_major": 2,
              "version_minor": 0,
              "model_id": "0abe853205c948f991bc5f28378533b7"
            }
          },
          "metadata": {}
        }
      ]
    },
    {
      "cell_type": "markdown",
      "source": [
        "## With QR code"
      ],
      "metadata": {
        "id": "ceP7C60HulZE"
      }
    },
    {
      "cell_type": "code",
      "source": [
        "\n",
        "def create_checkout_session():\n",
        "    \"\"\"\n",
        "    Creates a Stripe Checkout session to collect card details securely.\n",
        "    \"\"\"\n",
        "    try:\n",
        "        session = stripe.checkout.Session.create(\n",
        "            payment_method_types=['card'],\n",
        "            line_items=[\n",
        "                {\n",
        "                    'price_data': {\n",
        "                        'currency': 'usd',\n",
        "                        'product_data': {\n",
        "                            'name': 'Test Payment',\n",
        "                        },\n",
        "                        'unit_amount': 1099,\n",
        "                    },\n",
        "                    'quantity': 1,\n",
        "                },\n",
        "            ],\n",
        "            mode='payment',\n",
        "            success_url='https://example.com/success?session_id={CHECKOUT_SESSION_ID}',\n",
        "            cancel_url='https://example.com/cancel',\n",
        "        )\n",
        "        return session\n",
        "    except Exception as e:\n",
        "        print(\"An error occurred while creating checkout session:\", e)\n",
        "        return None\n",
        "\n",
        "checkout_button = widgets.Button(\n",
        "    description=\"Pay\",\n",
        "    button_style='primary',\n",
        "    tooltip=\"Click to open the Stripe Checkout page\"\n",
        ")\n",
        "\n",
        "output = widgets.Output()\n",
        "\n",
        "def on_checkout_button_clicked(b):\n",
        "    with output:\n",
        "        output.clear_output()\n",
        "        session = create_checkout_session()\n",
        "        if session:\n",
        "            print(\"Checkout session created successfully!\")\n",
        "            print(\"Please complete your payment on Stripe's secure Checkout page by scanning the QR code below:\")\n",
        "\n",
        "            # Generate a QR code from the session URL\n",
        "            qr = qrcode.QRCode(\n",
        "                version=1,\n",
        "                error_correction=qrcode.constants.ERROR_CORRECT_L,\n",
        "                box_size=10,\n",
        "                border=4,\n",
        "            )\n",
        "            qr.add_data(session.url)\n",
        "            qr.make(fit=True)\n",
        "            img = qr.make_image(fill_color=\"black\", back_color=\"white\")\n",
        "\n",
        "            # Save the image to a BytesIO buffer and display it\n",
        "            buf = io.BytesIO()\n",
        "            img.save(buf, format='PNG')\n",
        "            buf.seek(0)\n",
        "            display(Image(data=buf.getvalue()))\n",
        "        else:\n",
        "            print(\"Failed to create checkout session.\")\n",
        "\n",
        "checkout_button.on_click(on_checkout_button_clicked)\n",
        "display(checkout_button, output)"
      ],
      "metadata": {
        "colab": {
          "base_uri": "https://localhost:8080/",
          "height": 814,
          "referenced_widgets": [
            "f860e0dbfec64a189fe2da03c302701e",
            "30cd24ff941c40debd88cbdc16b9dc0b",
            "0cd9be8b40a84ebebadfe8a941f92691",
            "6ae142d3a97e4b72a8e2e9a6f8c8789c",
            "bf2ff725e40a432ea07b37161bbb1cf6"
          ]
        },
        "id": "mkCwO2Dkujwm",
        "outputId": "fde57478-bc53-4827-94c7-735c2f540864"
      },
      "execution_count": null,
      "outputs": [
        {
          "output_type": "display_data",
          "data": {
            "text/plain": [
              "Button(button_style='primary', description='Pay', style=ButtonStyle(), tooltip='Click to open the Stripe Check…"
            ],
            "application/vnd.jupyter.widget-view+json": {
              "version_major": 2,
              "version_minor": 0,
              "model_id": "f860e0dbfec64a189fe2da03c302701e"
            }
          },
          "metadata": {}
        },
        {
          "output_type": "display_data",
          "data": {
            "text/plain": [
              "Output()"
            ],
            "application/vnd.jupyter.widget-view+json": {
              "version_major": 2,
              "version_minor": 0,
              "model_id": "6ae142d3a97e4b72a8e2e9a6f8c8789c"
            }
          },
          "metadata": {}
        }
      ]
    },
    {
      "cell_type": "code",
      "source": [
        "import stripe\n",
        "import qrcode\n",
        "import io\n",
        "import time\n",
        "import threading\n",
        "from IPython.display import display, Image\n",
        "import ipywidgets as widgets\n",
        "\n",
        "def create_checkout_session():\n",
        "    \"\"\"\n",
        "    Creates a Stripe Checkout session to collect card details securely.\n",
        "    \"\"\"\n",
        "    try:\n",
        "        session = stripe.checkout.Session.create(\n",
        "            payment_method_types=['card'],\n",
        "            line_items=[\n",
        "                {\n",
        "                    'price_data': {\n",
        "                        'currency': 'usd',\n",
        "                        'product_data': {\n",
        "                            'name': 'Test Payment',\n",
        "                        },\n",
        "                        'unit_amount': 1099,\n",
        "                    },\n",
        "                    'quantity': 1,\n",
        "                },\n",
        "            ],\n",
        "            mode='payment',\n",
        "            success_url='https://example.com/success?session_id={CHECKOUT_SESSION_ID}',\n",
        "            cancel_url='https://example.com/cancel',\n",
        "        )\n",
        "        return session\n",
        "    except Exception as e:\n",
        "        print(\"An error occurred while creating checkout session:\", e)\n",
        "        return None\n",
        "\n",
        "checkout_button = widgets.Button(\n",
        "    description=\"Pay\",\n",
        "    button_style='primary',\n",
        "    tooltip=\"Click to open the Stripe Checkout page\"\n",
        ")\n",
        "\n",
        "output = widgets.Output()\n",
        "\n",
        "def poll_payment_status(session_id):\n",
        "    # Poll the checkout session every few seconds for payment success\n",
        "    while True:\n",
        "        session = stripe.checkout.Session.retrieve(session_id)\n",
        "        if session.payment_status == 'paid':\n",
        "            with output:\n",
        "                print(\"Payment successful!\")\n",
        "            break\n",
        "        time.sleep(3)  # poll every 3 seconds\n",
        "\n",
        "def on_checkout_button_clicked(b):\n",
        "    with output:\n",
        "        output.clear_output()\n",
        "        session = create_checkout_session()\n",
        "        if session:\n",
        "            print(\"Checkout session created successfully!\")\n",
        "            print(\"Please complete your payment on Stripe's secure Checkout page by scanning the QR code below:\")\n",
        "\n",
        "            # Generate a QR code from the session URL\n",
        "            qr = qrcode.QRCode(\n",
        "                version=1,\n",
        "                error_correction=qrcode.constants.ERROR_CORRECT_L,\n",
        "                box_size=10,\n",
        "                border=4,\n",
        "            )\n",
        "            qr.add_data(session.url)\n",
        "            qr.make(fit=True)\n",
        "            img = qr.make_image(fill_color=\"black\", back_color=\"white\")\n",
        "\n",
        "            # Save the image to a BytesIO buffer and display it\n",
        "            buf = io.BytesIO()\n",
        "            img.save(buf, format='PNG')\n",
        "            buf.seek(0)\n",
        "            display(Image(data=buf.getvalue()))\n",
        "\n",
        "            # Start polling for the payment status in a background thread\n",
        "            threading.Thread(target=poll_payment_status, args=(session.id,), daemon=True).start()\n",
        "        else:\n",
        "            print(\"Failed to create checkout session.\")\n",
        "\n",
        "checkout_button.on_click(on_checkout_button_clicked)\n",
        "display(checkout_button, output)\n"
      ],
      "metadata": {
        "colab": {
          "base_uri": "https://localhost:8080/",
          "height": 814,
          "referenced_widgets": [
            "3fb4f3d1d245487ca3653e3140198d79",
            "50a386b7d28b41fd8914dd5db8df5bdf",
            "ea823990947f486eb3b37eb00ea5f5fa",
            "95852cb0738242abad3d61bf10091fda",
            "ef40d9c92c964ddc9c98a907bcffb3dd"
          ]
        },
        "id": "QkHfj3fQRA6S",
        "outputId": "c482d5fb-d6bd-4347-e01a-5d423a2df90f"
      },
      "execution_count": null,
      "outputs": [
        {
          "output_type": "display_data",
          "data": {
            "text/plain": [
              "Button(button_style='primary', description='Pay', style=ButtonStyle(), tooltip='Click to open the Stripe Check…"
            ],
            "application/vnd.jupyter.widget-view+json": {
              "version_major": 2,
              "version_minor": 0,
              "model_id": "3fb4f3d1d245487ca3653e3140198d79"
            }
          },
          "metadata": {}
        },
        {
          "output_type": "display_data",
          "data": {
            "text/plain": [
              "Output()"
            ],
            "application/vnd.jupyter.widget-view+json": {
              "version_major": 2,
              "version_minor": 0,
              "model_id": "95852cb0738242abad3d61bf10091fda"
            }
          },
          "metadata": {}
        }
      ]
    },
    {
      "cell_type": "code",
      "source": [
        "import stripe\n",
        "import qrcode\n",
        "import io\n",
        "import asyncio\n",
        "from IPython.display import display, Image\n",
        "import ipywidgets as widgets\n",
        "\n",
        "def create_checkout_session():\n",
        "    \"\"\"\n",
        "    Creates a Stripe Checkout session to collect card details securely.\n",
        "    \"\"\"\n",
        "    try:\n",
        "        session = stripe.checkout.Session.create(\n",
        "            payment_method_types=['card'],\n",
        "            line_items=[\n",
        "                {\n",
        "                    'price_data': {\n",
        "                        'currency': 'usd',\n",
        "                        'product_data': {\n",
        "                            'name': 'Test Payment',\n",
        "                        },\n",
        "                        'unit_amount': 1099,\n",
        "                    },\n",
        "                    'quantity': 1,\n",
        "                },\n",
        "            ],\n",
        "            mode='payment',\n",
        "            success_url='https://example.com/success?session_id={CHECKOUT_SESSION_ID}',\n",
        "            cancel_url='https://example.com/cancel',\n",
        "        )\n",
        "        return session\n",
        "    except Exception as e:\n",
        "        print(\"An error occurred while creating checkout session:\", e)\n",
        "        return None\n",
        "\n",
        "checkout_button = widgets.Button(\n",
        "    description=\"Pay\",\n",
        "    button_style='primary',\n",
        "    tooltip=\"Click to open the Stripe Checkout page\"\n",
        ")\n",
        "\n",
        "output = widgets.Output()\n",
        "\n",
        "async def poll_payment_status(session_id):\n",
        "    while True:\n",
        "        session = stripe.checkout.Session.retrieve(session_id)\n",
        "        if session.payment_status == 'paid':\n",
        "            with output:\n",
        "                print(\"Payment successful!\")\n",
        "            break\n",
        "        await asyncio.sleep(3)  # non-blocking sleep\n",
        "\n",
        "def on_checkout_button_clicked(b):\n",
        "    with output:\n",
        "        output.clear_output()\n",
        "        session = create_checkout_session()\n",
        "        if session:\n",
        "            print(\"Checkout session created successfully!\")\n",
        "            print(\"Please complete your payment on Stripe's secure Checkout page by scanning the QR code below:\")\n",
        "\n",
        "            # Generate a QR code from the session URL\n",
        "            qr = qrcode.QRCode(\n",
        "                version=1,\n",
        "                error_correction=qrcode.constants.ERROR_CORRECT_L,\n",
        "                box_size=10,\n",
        "                border=4,\n",
        "            )\n",
        "            qr.add_data(session.url)\n",
        "            qr.make(fit=True)\n",
        "            img = qr.make_image(fill_color=\"black\", back_color=\"white\")\n",
        "\n",
        "            buf = io.BytesIO()\n",
        "            img.save(buf, format='PNG')\n",
        "            buf.seek(0)\n",
        "            display(Image(data=buf.getvalue()))\n",
        "\n",
        "            # Schedule the async polling task without blocking\n",
        "            asyncio.create_task(poll_payment_status(session.id))\n",
        "        else:\n",
        "            print(\"Failed to create checkout session.\")\n",
        "\n",
        "checkout_button.on_click(on_checkout_button_clicked)\n",
        "display(checkout_button, output)\n"
      ],
      "metadata": {
        "id": "eLHBrXvERq99",
        "outputId": "b01470b9-d65b-4d0f-900f-dfd0823d721f",
        "colab": {
          "base_uri": "https://localhost:8080/",
          "height": 814,
          "referenced_widgets": [
            "3fafb9021ddb48df9d94b0a37d218507",
            "85607fb7a4ea4be9a9018519f0f0da86",
            "bf1206a727e64d59811ab5a7c68f928c",
            "0a4a05f299fb4525addeb6ecc633dff6",
            "8bd617262e4c40c49d37e9667fc15511"
          ]
        }
      },
      "execution_count": null,
      "outputs": [
        {
          "output_type": "display_data",
          "data": {
            "text/plain": [
              "Button(button_style='primary', description='Pay', style=ButtonStyle(), tooltip='Click to open the Stripe Check…"
            ],
            "application/vnd.jupyter.widget-view+json": {
              "version_major": 2,
              "version_minor": 0,
              "model_id": "3fafb9021ddb48df9d94b0a37d218507"
            }
          },
          "metadata": {}
        },
        {
          "output_type": "display_data",
          "data": {
            "text/plain": [
              "Output()"
            ],
            "application/vnd.jupyter.widget-view+json": {
              "version_major": 2,
              "version_minor": 0,
              "model_id": "0a4a05f299fb4525addeb6ecc633dff6"
            }
          },
          "metadata": {}
        }
      ]
    },
    {
      "cell_type": "markdown",
      "source": [],
      "metadata": {
        "id": "BVc4Z3GuqN_b"
      }
    }
  ]
}